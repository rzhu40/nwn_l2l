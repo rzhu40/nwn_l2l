{
 "cells": [
  {
   "cell_type": "code",
   "execution_count": 1,
   "metadata": {},
   "outputs": [],
   "source": [
    "import torch\n",
    "import numpy as np\n",
    "import matplotlib.pyplot as plt\n",
    "import os\n",
    "import sys"
   ]
  },
  {
   "cell_type": "code",
   "execution_count": 2,
   "metadata": {},
   "outputs": [],
   "source": [
    "sys.path.insert(0,\"/home/rzhu/Documents/nwn_l2l/\")\n",
    "from nwnTorch.misc import *"
   ]
  },
  {
   "cell_type": "code",
   "execution_count": 3,
   "metadata": {},
   "outputs": [],
   "source": [
    "data_path = \"/home/rzhu/data_access/l2l_data/logs/LTL-NWN-volterra-SA/run-no-2023-04-01-194347/\""
   ]
  },
  {
   "cell_type": "code",
   "execution_count": 4,
   "metadata": {},
   "outputs": [],
   "source": [
    "fnames = os.listdir(data_path +\"per_gen_trajectories\")\n",
    "fnames.sort()\n",
    "n_gens = len(fnames)"
   ]
  },
  {
   "cell_type": "code",
   "execution_count": 5,
   "metadata": {},
   "outputs": [],
   "source": [
    "results = []\n",
    "for fn in fnames:\n",
    "    fileName = os.path.join(data_path, \"per_gen_trajectories\", fn)\n",
    "    temp = pkl_load(fileName)\n",
    "    gen_out = torch.tensor([r[1][0] for r in temp.current_results])\n",
    "    results.append(gen_out)\n",
    "\n",
    "n_ins = len(gen_out)\n",
    "results = torch.stack(results)"
   ]
  },
  {
   "cell_type": "code",
   "execution_count": 6,
   "metadata": {},
   "outputs": [],
   "source": [
    "hyper_keys = temp.individual.__dict__[\"params\"].keys()\n",
    "hyper_dict = {}\n",
    "\n",
    "for key in hyper_keys:\n",
    "    hyper_dict[key] = torch.zeros(n_gens, n_ins)\n",
    "    for i in range(n_gens):\n",
    "        for j in range(n_ins):\n",
    "            hyper_dict[key][i][j] = temp.individuals[i][j].__dict__[\"params\"][key]"
   ]
  },
  {
   "cell_type": "code",
   "execution_count": 7,
   "metadata": {},
   "outputs": [
    {
     "data": {
      "text/plain": [
       "Text(0, 0.5, 'Pre initialization time (s)')"
      ]
     },
     "execution_count": 7,
     "metadata": {},
     "output_type": "execute_result"
    },
    {
     "data": {
      "image/png": "[encoded data removed]",
      "text/plain": [
       "<Figure size 432x288 with 1 Axes>"
      ]
     },
     "metadata": {
      "needs_background": "light"
     },
     "output_type": "display_data"
    }
   ],
   "source": [
    "# error_shade(hyper_dict[\"individual.init_time\"].mean(axis = 1)*10, \n",
    "#             hyper_dict[\"individual.init_time\"].std(axis = 1)*10 / np.sqrt(10))\n",
    "plt.plot(hyper_dict[\"individual.init_time\"].mean(axis = 1) * 10,)\n",
    "# plt.xticks([0,5,10,15,20])\n",
    "plt.xlabel(\"Generations\")\n",
    "\n",
    "plt.ylabel(\"Pre initialization time (s)\")"
   ]
  },
  {
   "cell_type": "code",
   "execution_count": 8,
   "metadata": {},
   "outputs": [],
   "source": [
    "gen    = n_gens-1\n",
    "Gnets  = torch.zeros(n_ins, 3000)\n",
    "inits  = torch.zeros(n_ins, dtype = int)\n",
    "r2     = torch.zeros(n_ins)\n",
    "testid = torch.zeros(n_ins, 5)\n",
    "# Ws     = torch.zeros(n_ins)\n",
    "# bs     = torch.zeros(n_ins)\n",
    "\n",
    "for i in range(n_ins):\n",
    "    temp = pkl_load(data_path+f\"results/gen_{gen:04d}_ind_{i:04d}.pkl\")\n",
    "    Gnets[i] = temp[\"netG\"]\n",
    "    inits[i] = int(temp[\"params\"][\"init_time\"].item() * 10000)\n",
    "    r2[i]  = temp[\"tests\"][:,1].mean()\n",
    "    testid[i] = temp[\"tests\"][:,0]\n"
   ]
  },
  {
   "cell_type": "code",
   "execution_count": null,
   "metadata": {},
   "outputs": [],
   "source": []
  },
  {
   "cell_type": "code",
   "execution_count": null,
   "metadata": {},
   "outputs": [],
   "source": []
  },
  {
   "cell_type": "code",
   "execution_count": 9,
   "metadata": {},
   "outputs": [],
   "source": [
    "sys.path.append(\"/home/rzhu/Documents/nwn_l2l/\")\n",
    "from nwnTorch.jn_models import *\n",
    "from nwnTorch.nwn import *\n",
    "from nwnTorch.generate_adj import *\n",
    "from nwnTorch.misc import *\n",
    "\n",
    "from tqdm import tqdm"
   ]
  },
  {
   "cell_type": "code",
   "execution_count": null,
   "metadata": {},
   "outputs": [],
   "source": [
    "from sklearn.pipeline import make_pipeline\n",
    "from sklearn.preprocessing import StandardScaler\n",
    "from sklearn import linear_model\n",
    "from sklearn.metrics import mean_squared_error\n",
    "from sklearn.feature_selection import SelectFromModel,RFECV\n",
    "from sklearn.pipeline import Pipeline\n",
    "from sklearn.model_selection import KFold"
   ]
  },
  {
   "cell_type": "code",
   "execution_count": 10,
   "metadata": {},
   "outputs": [],
   "source": [
    "def prepare_network(index = 0):\n",
    "    snn_data_path = \"/home/rzhu/data_access/l2l_data/snn_data_new/\"\n",
    "    adj = torch.tensor(pkl_load(snn_data_path + \"con0.pkl\")[\"adj_matrix\"])\n",
    "    net = NWN(adj, \"sydney\")\n",
    "\n",
    "    # net.params[\"Ron\"]       = 1e4\n",
    "    net.params[\"Ron\"]       = 1e1\n",
    "    net.params[\"Roff\"]      = 1e4\n",
    "    net.params[\"grow\"]      = 5\n",
    "    net.params[\"decay\"]     = 10\n",
    "    net.params[\"precision\"] = True\n",
    "    return net"
   ]
  },
  {
   "cell_type": "code",
   "execution_count": 11,
   "metadata": {},
   "outputs": [],
   "source": [
    "volterra_path = \"/home/rzhu/data_access/l2l_data/volterra_data_new/\"\n",
    "lambda_dict   = pkl_load(volterra_path+\"lambda_data.pkl\")"
   ]
  },
  {
   "cell_type": "code",
   "execution_count": 12,
   "metadata": {},
   "outputs": [],
   "source": [
    "# X,Y        = pkl_load(volterra_path+f\"pair_0.pkl\")\n",
    "X,Y        = pkl_load(volterra_path+f\"pair_0\")\n",
    "steps      = len(X)\n",
    "n_in       = 1\n",
    "# n_out      = 64\n",
    "# torch.manual_seed(0)\n",
    "# readout    = torch.zeros(steps, n_out)\n",
    "\n",
    "lambda_dict          = pkl_load(volterra_path+\"lambda_data.pkl\")\n",
    "electrodes           = lambda_dict[\"electodes\"]\n",
    "\n",
    "np.random.seed(0)\n",
    "# elec_out  = np.random.choice(1024, size = (1,n_out), replace=None)\n",
    "np.random.seed()\n",
    "\n",
    "tensor_dict = {}\n",
    "dtype_here  = torch.get_default_dtype()"
   ]
  },
  {
   "cell_type": "code",
   "execution_count": 13,
   "metadata": {},
   "outputs": [],
   "source": [
    "params = pkl_load(data_path+f\"results/gen_{99:04d}_ind_{5:04d}.pkl\")[\"params\"]"
   ]
  },
  {
   "cell_type": "code",
   "execution_count": 105,
   "metadata": {},
   "outputs": [
    {
     "name": "stderr",
     "output_type": "stream",
     "text": [
      "100%|██████████| 10000/10000 [01:12<00:00, 137.68it/s]\n"
     ]
    }
   ],
   "source": [
    "steps = 10000\n",
    "# W_in  = params[\"W_in_mean\"] * 3\n",
    "# b_in  = params[\"b_in_mean\"]\n",
    "\n",
    "W_in  = 2\n",
    "b_in  = 1\n",
    "net   = prepare_network()\n",
    "\n",
    "net.junction_state.L = lambda_dict[\"lambda\"][2500]\n",
    "# net.junction_state.L = lambda_dict[\"lambda\"][int(params[\"init_time\"] * 10000)]\n",
    "\n",
    "readout    = torch.zeros(steps, 1024)\n",
    "elec_out = np.arange(1024)\n",
    "\n",
    "for t in tqdm(range(steps)):\n",
    "# for t in tqdm(range(30)):\n",
    "    sig_in = torch.zeros(len(electrodes))\n",
    "    sig_in[0] = X[t] * W_in + b_in\n",
    "    net.sim(sig_in.reshape(1,-1), electrodes)\n",
    "    readout[t,:] = net.V\n",
    "    # netG[t]      = net.I[-1] / sig_in[0]"
   ]
  },
  {
   "cell_type": "code",
   "execution_count": 92,
   "metadata": {},
   "outputs": [],
   "source": []
  },
  {
   "cell_type": "code",
   "execution_count": 106,
   "metadata": {},
   "outputs": [
    {
     "data": {
      "text/plain": [
       "tensor(0.9997)"
      ]
     },
     "execution_count": 106,
     "metadata": {},
     "output_type": "execute_result"
    }
   ],
   "source": [
    "abs(torch.corrcoef(torch.stack((X, readout[:,0])))[0,1])"
   ]
  },
  {
   "cell_type": "code",
   "execution_count": 107,
   "metadata": {},
   "outputs": [],
   "source": [
    "num_read = 64\n",
    "coefs = torch.zeros(1024)\n",
    "for i in range(1024):\n",
    "    coefs[i] = abs(torch.corrcoef(torch.stack((X, readout[:,i])))[0,1])\n",
    "\n",
    "e_outs = torch.argsort(coefs)[:num_read]"
   ]
  },
  {
   "cell_type": "code",
   "execution_count": 121,
   "metadata": {},
   "outputs": [],
   "source": [
    "train_range = torch.arange(2000,8000)\n",
    "test_range  = torch.arange(8000,10000)\n",
    "\n",
    "# index   = np.random.randint(100)\n",
    "index = 19\n",
    "_,Y   = pkl_load(volterra_path + f\"pair_{index}\")\n",
    "# _,Y     = pkl_load(volterra_path + f\"pair_{index}.pkl\")\n",
    "\n",
    "# lhs = torch.hstack((\n",
    "        # torch.ones(len(train_range),1), \n",
    "        # readout[train_range]))\n",
    "\n",
    "# lhs = torch.hstack((X[train_range].reshape(-1,1), \n",
    "#                    readout[train_range]))\n",
    "# lhs = readout\n",
    "# lhs = torch.nn.functional.softmax(readout[:,e_outs], 0)\n",
    "\n",
    "lhs = readout[:,e_outs]\n",
    "# lhs = torch.nn.functional.softmax(torch.hstack((readout[:,e_outs], torch.ones(len(readout), 1))))\n",
    "\n",
    "rhs = Y\n",
    "\n",
    "# weight, train_result, rcond = best_regress(lhs, rhs)"
   ]
  },
  {
   "cell_type": "code",
   "execution_count": 124,
   "metadata": {},
   "outputs": [
    {
     "name": "stdout",
     "output_type": "stream",
     "text": [
      "tensor(0.2472)\n"
     ]
    }
   ],
   "source": [
    "\n",
    "# Always scale the input. The most convenient way is to use a pipeline.\n",
    "# reg = make_pipeline(StandardScaler(),\n",
    "#             linear_model.SGDRegressor(max_iter=10000000, tol=1e-1))\n",
    "# reg = make_pipeline(StandardScaler(),\n",
    "#             linear_model.RidgeCV())\n",
    "# alphas   = [1e-4, 1e-3, 1e-2, 1e-1, 5e-1, 1]\n",
    "# alphas = 10**np.linspace(-4,0,5)\n",
    "alphas = [1e-5, 1e-4, 1e-3, 1e-2, 5e-2, 1e-1, 5e-1, 1]\n",
    "model  = linear_model.RidgeCV(alphas = alphas, cv = KFold(5))\n",
    "\n",
    "# lhs = torch.nn.functional.softmax(readout[:,e_outs], 0)\n",
    "lhs = readout[:,e_outs]\n",
    "rhs = Y\n",
    "\n",
    "var_filter = SelectFromModel(model)\n",
    "reg    = make_pipeline(\n",
    "                StandardScaler(),\n",
    "                var_filter, \n",
    "                model\n",
    "                # linear_model.LinearRegression()\n",
    "                )\n",
    "        \n",
    "reg.fit(lhs[train_range], rhs[train_range])\n",
    "predict = reg.predict(lhs)\n",
    "\n",
    "mse = mean_squared_error(\n",
    "                        predict[test_range], \n",
    "                        rhs[test_range]\n",
    "                        )\n",
    "nrmse = np.sqrt(mse) / (rhs[test_range].max() - rhs[test_range].min())\n",
    "\n",
    "print(nrmse)"
   ]
  },
  {
   "cell_type": "code",
   "execution_count": 125,
   "metadata": {},
   "outputs": [
    {
     "data": {
      "text/plain": [
       "<matplotlib.lines.Line2D at 0x7f794008bc50>"
      ]
     },
     "execution_count": 125,
     "metadata": {},
     "output_type": "execute_result"
    },
    {
     "data": {
      "image/png": "[encoded data removed]",
      "text/plain": [
       "<Figure size 432x288 with 1 Axes>"
      ]
     },
     "metadata": {
      "needs_background": "light"
     },
     "output_type": "display_data"
    }
   ],
   "source": [
    "plt.plot(rhs)\n",
    "plt.plot(range(2000,10000), predict[2000:])\n",
    "\n",
    "plt.axvline(8000, ls = \"--\")"
   ]
  },
  {
   "cell_type": "code",
   "execution_count": null,
   "metadata": {},
   "outputs": [],
   "source": []
  }
 ],
 "metadata": {
  "kernelspec": {
   "display_name": "nwn_l2l",
   "language": "python",
   "name": "python3"
  },
  "language_info": {
   "codemirror_mode": {
    "name": "ipython",
    "version": 3
   },
   "file_extension": ".py",
   "mimetype": "text/x-python",
   "name": "python",
   "nbconvert_exporter": "python",
   "pygments_lexer": "ipython3",
   "version": "3.7.16"
  },
  "orig_nbformat": 4
 },
 "nbformat": 4,
 "nbformat_minor": 2
}
