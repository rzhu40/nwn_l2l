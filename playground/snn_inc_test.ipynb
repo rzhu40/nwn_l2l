{
 "cells": [
  {
   "cell_type": "code",
   "execution_count": 1,
   "metadata": {},
   "outputs": [],
   "source": [
    "import torch\n",
    "import numpy as np\n",
    "import matplotlib.pyplot as plt\n",
    "import os\n",
    "import sys"
   ]
  },
  {
   "cell_type": "code",
   "execution_count": 2,
   "metadata": {},
   "outputs": [],
   "source": [
    "sys.path.insert(0,\"/home/rzhu/Documents/nwn_l2l/\")\n",
    "from nwnTorch.misc import *"
   ]
  },
  {
   "cell_type": "code",
   "execution_count": null,
   "metadata": {},
   "outputs": [],
   "source": [
    "\"/home/rzhu/data_access/l2l_data/logs/LTL-NWN-learn_snn_new-SA/run-no-2023-04-06-190452/\""
   ]
  },
  {
   "cell_type": "code",
   "execution_count": 22,
   "metadata": {},
   "outputs": [],
   "source": [
    "data_path = \"/home/rzhu/data_access/l2l_data/logs/LTL-NWN-learn_snn-SA/run-no-2023-04-02-135654/\"\n",
    "\n",
    "fnames = os.listdir(data_path +\"per_gen_trajectories\")\n",
    "fnames.sort()\n",
    "n_gens = len(fnames)"
   ]
  },
  {
   "cell_type": "code",
   "execution_count": 23,
   "metadata": {},
   "outputs": [],
   "source": [
    "results = []\n",
    "for fn in fnames:\n",
    "    fileName = os.path.join(data_path, \"per_gen_trajectories\", fn)\n",
    "    temp = pkl_load(fileName)\n",
    "    gen_out = torch.tensor([r[1][0] for r in temp.current_results])\n",
    "    results.append(gen_out)\n",
    "\n",
    "n_ins = len(gen_out)\n",
    "results = torch.stack(results)"
   ]
  },
  {
   "cell_type": "code",
   "execution_count": 24,
   "metadata": {},
   "outputs": [
    {
     "data": {
      "text/plain": [
       "[<matplotlib.lines.Line2D at 0x7fa04224fc90>]"
      ]
     },
     "execution_count": 24,
     "metadata": {},
     "output_type": "execute_result"
    },
    {
     "data": {
      "image/png": "[encoded data removed]",
      "text/plain": [
       "<Figure size 432x288 with 1 Axes>"
      ]
     },
     "metadata": {
      "needs_background": "light"
     },
     "output_type": "display_data"
    }
   ],
   "source": [
    "plt.plot(results.mean(axis = 1))"
   ]
  },
  {
   "cell_type": "code",
   "execution_count": 25,
   "metadata": {},
   "outputs": [
    {
     "data": {
      "text/plain": [
       "tensor([ 4, 20,  6, 10,  8,  7,  6,  2, 19, 15, 21,  7, 14,  0,  4, 14,  7,  9,\n",
       "        17,  1,  6,  1,  5,  5, 12, 21,  4, 23,  9, 23, 23, 20, 18,  1,  2,  8,\n",
       "        21,  3, 23, 20,  2,  4,  5,  7,  1,  1,  8,  0,  1, 16,  5,  7, 20, 22,\n",
       "        10, 23,  6, 22, 16, 12,  3, 11,  3,  9,  6,  8, 11, 11,  6,  6,  1,  2,\n",
       "         6, 17,  4,  2, 20, 20, 15,  5,  1,  2,  6, 19, 11, 14, 22,  0,  8, 13,\n",
       "        17,  8, 16,  1,  7, 13, 10, 19, 13, 11])"
      ]
     },
     "execution_count": 25,
     "metadata": {},
     "output_type": "execute_result"
    }
   ],
   "source": [
    "results.argmin(axis = 1)"
   ]
  },
  {
   "cell_type": "code",
   "execution_count": 26,
   "metadata": {},
   "outputs": [],
   "source": [
    "params = pkl_load(data_path+f\"results/gen_{99:04d}_ind_{11:04d}.pkl\")[\"params\"]"
   ]
  },
  {
   "cell_type": "code",
   "execution_count": 27,
   "metadata": {},
   "outputs": [],
   "source": [
    "sys.path.append(\"/home/rzhu/Documents/nwn_l2l/\")\n",
    "from nwnTorch.jn_models import *\n",
    "from nwnTorch.nwn import *\n",
    "from nwnTorch.generate_adj import *\n",
    "from nwnTorch.misc import *\n",
    "\n",
    "from tqdm import tqdm"
   ]
  },
  {
   "cell_type": "code",
   "execution_count": 28,
   "metadata": {},
   "outputs": [],
   "source": [
    "def prepare_network(index = 0):\n",
    "    snn_data_path = \"/home/rzhu/data_access/l2l_data/snn_data_new/\"\n",
    "    adj = torch.tensor(pkl_load(snn_data_path + \"con0.pkl\")[\"adj_matrix\"])\n",
    "    net = NWN(adj, \"sydney\")\n",
    "\n",
    "    net.params[\"Ron\"]       = 1e4\n",
    "    net.params[\"grow\"]      = 5\n",
    "    net.params[\"decay\"]     = 10\n",
    "    net.params[\"precision\"] = True\n",
    "    return net"
   ]
  },
  {
   "cell_type": "code",
   "execution_count": 29,
   "metadata": {},
   "outputs": [],
   "source": [
    "snn_data_path = \"/home/rzhu/data_access/l2l_data/snn_data_new/\"\n",
    "data_dict   = pkl_load(snn_data_path+f\"snn_mem_{11}.pkl\")\n",
    "lambda_dict = pkl_load(snn_data_path+\"lambda_data.pkl\")"
   ]
  },
  {
   "cell_type": "code",
   "execution_count": 30,
   "metadata": {},
   "outputs": [],
   "source": [
    "waves       = data_dict[\"waves\"]\n",
    "mems        = data_dict[\"mems\"]\n",
    "n_neurons   = mems.shape[-1]\n",
    "num_inputs  = waves.shape[1]\n",
    "num_steps   = waves.shape[0]\n",
    "num_read    = 64\n",
    "\n",
    "torch.manual_seed(0)\n",
    "shuffled = torch.randperm(1024)\n",
    "e_in     = shuffled[:num_inputs]\n",
    "e_read   = shuffled[-num_read:]\n",
    "readout  = torch.zeros(num_steps, num_read)"
   ]
  },
  {
   "cell_type": "code",
   "execution_count": 31,
   "metadata": {},
   "outputs": [
    {
     "data": {
      "text/plain": [
       "{'W_in': tensor([-0.0330, -0.2248,  0.1477,  0.3945, -0.4079, -0.0412,  0.1029,  0.5803,\n",
       "          0.2758, -0.2565,  0.2834,  0.2994,  0.5725,  0.0690, -0.1110,  0.1808,\n",
       "          0.1289,  0.4058,  0.2272,  0.2417]),\n",
       " 'b_in': tensor([ 0.0792,  0.2421, -0.1630,  0.7288, -0.1313, -0.0436,  0.0932,  0.4223,\n",
       "          0.2676,  0.5867,  0.2875, -0.4835,  0.2796, -0.1160, -0.1240, -0.1161,\n",
       "         -0.3319, -0.2894,  0.0422, -0.1768]),\n",
       " 'init_time': tensor(0.3592)}"
      ]
     },
     "execution_count": 31,
     "metadata": {},
     "output_type": "execute_result"
    }
   ],
   "source": [
    "params"
   ]
  },
  {
   "cell_type": "code",
   "execution_count": 36,
   "metadata": {},
   "outputs": [],
   "source": [
    "net   = prepare_network()\n",
    "W_in = params[\"W_in\"] \n",
    "b_in = params[\"b_in\"]\n",
    "net.junction_state.L = lambda_dict[\"lambda\"][360]"
   ]
  },
  {
   "cell_type": "code",
   "execution_count": 37,
   "metadata": {},
   "outputs": [
    {
     "name": "stderr",
     "output_type": "stream",
     "text": [
      "100%|██████████| 1000/1000 [00:07<00:00, 135.73it/s]\n"
     ]
    }
   ],
   "source": [
    "for i in tqdm(range(num_steps)):\n",
    "    sig_in = W_in * waves[i] + b_in\n",
    "    net.sim(sig_in.reshape(1,-1), e_in)\n",
    "    readout[i,:] = net.V[e_read]"
   ]
  },
  {
   "cell_type": "code",
   "execution_count": 81,
   "metadata": {},
   "outputs": [],
   "source": [
    "from sklearn.pipeline import make_pipeline\n",
    "from sklearn.preprocessing import StandardScaler\n",
    "from sklearn import linear_model\n",
    "from sklearn.metrics import mean_squared_error\n",
    "from sklearn.feature_selection import SelectFromModel,RFECV\n",
    "from sklearn.pipeline import Pipeline\n",
    "\n",
    "\n",
    "# Always scale the input. The most convenient way is to use a pipeline.\n",
    "# reg = make_pipeline(StandardScaler(),\n",
    "#             linear_model.SGDRegressor(max_iter=10000000, tol=1e-1))\n",
    "# reg = make_pipeline(StandardScaler(),\n",
    "#             linear_model.RidgeCV())"
   ]
  },
  {
   "cell_type": "code",
   "execution_count": 84,
   "metadata": {},
   "outputs": [
    {
     "name": "stdout",
     "output_type": "stream",
     "text": [
      "239162.36638850492\n",
      "6094.095271228991\n",
      "3907.4192615292372\n",
      "619.7612628052866\n",
      "1171.8906225893445\n"
     ]
    }
   ],
   "source": [
    "train_range = torch.arange(0,800)\n",
    "test_range  = torch.arange(800,1000)\n",
    "\n",
    "predicts = []\n",
    "# alphas = 10**np.linspace(-2,2,12)\n",
    "\n",
    "for i in range(n_neurons):\n",
    "    lhs = readout[:,:]\n",
    "    rhs = mems[:,i]\n",
    "\n",
    "    # weight, _, rcond = best_regress(lhs[train_range], rhs[train_range])\n",
    "    # predict = weight @ lhs.T\n",
    "    reg = make_pipeline(StandardScaler(),\n",
    "                        linear_model.LinearRegression())\n",
    "    \n",
    "    reg.fit(lhs[train_range], rhs[train_range])\n",
    "    predict = reg.predict(lhs)\n",
    "\n",
    "    predicts.append(predict)\n",
    "    print(mean_squared_error(predict[test_range], rhs[test_range]))\n",
    "    # break\n",
    "    # result[i] = get_RNMSE(predict, rhs)"
   ]
  },
  {
   "cell_type": "code",
   "execution_count": 83,
   "metadata": {},
   "outputs": [
    {
     "data": {
      "text/plain": [
       "Text(0, 0.5, 'Readout Neurons')"
      ]
     },
     "execution_count": 83,
     "metadata": {},
     "output_type": "execute_result"
    },
    {
     "data": {
      "image/png": "[encoded data removed]",
      "text/plain": [
       "<Figure size 460.8x360 with 5 Axes>"
      ]
     },
     "metadata": {
      "needs_background": "light"
     },
     "output_type": "display_data"
    }
   ],
   "source": [
    "fig, axes = plt.subplots(5,1, figsize = (6.4, 5))\n",
    "\n",
    "for i in range(5):\n",
    "    axes[i].plot(np.arange(0,1,1e-3), mems[:,i], c = \"#33312E\", lw = 2.5,zorder = 1)\n",
    "    # axes[i].scatter(np.arange(0,1,1e-3), play_dict0[\"predict\"][:,i], c = \"#5BC0BE\", s = 1, zorder = 2)\n",
    "    axes[i].scatter(np.arange(0,1,1e-3), predicts[i], c = '#EE6C4D', s = 1, zorder = 3)\n",
    "    if i< 4: \n",
    "        axes[i].tick_params('x', labelbottom=False)\n",
    "\n",
    "\n",
    "plt.xlabel(\"Time (s)\")\n",
    "axes[2].set_ylabel(\"Readout Neurons\")"
   ]
  },
  {
   "cell_type": "code",
   "execution_count": null,
   "metadata": {},
   "outputs": [],
   "source": []
  }
 ],
 "metadata": {
  "kernelspec": {
   "display_name": "nwn_l2l",
   "language": "python",
   "name": "python3"
  },
  "language_info": {
   "codemirror_mode": {
    "name": "ipython",
    "version": 3
   },
   "file_extension": ".py",
   "mimetype": "text/x-python",
   "name": "python",
   "nbconvert_exporter": "python",
   "pygments_lexer": "ipython3",
   "version": "3.7.16"
  },
  "orig_nbformat": 4
 },
 "nbformat": 4,
 "nbformat_minor": 2
}
