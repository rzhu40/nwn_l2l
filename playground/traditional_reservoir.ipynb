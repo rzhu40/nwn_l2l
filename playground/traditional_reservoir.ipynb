{
 "cells": [
  {
   "cell_type": "code",
   "execution_count": 12,
   "metadata": {},
   "outputs": [],
   "source": [
    "import sys"
   ]
  },
  {
   "cell_type": "code",
   "execution_count": 20,
   "metadata": {},
   "outputs": [],
   "source": [
    "sys.path.append(\"/home/rzhu/Documents/nwn_l2l/\")\n",
    "import torch\n",
    "from nwnTorch.misc import *\n",
    "import matplotlib.pyplot as plt"
   ]
  },
  {
   "cell_type": "code",
   "execution_count": null,
   "metadata": {},
   "outputs": [],
   "source": [
    "# -*- coding: utf-8 -*-\n",
    "\"\"\"\n",
    "Python 2.7\n",
    "Created on Wed Dec 23 20:36:43 2020\n",
    "@author: Xinyu HAN\n",
    "\"\"\"\n",
    "\n",
    "import numpy as np\n",
    "import pandas as pd\n",
    "from scipy import special, stats\n",
    "from tools import *\n",
    "from sklearn.decomposition import PCA\n",
    "from sklearn.preprocessing import scale \n",
    "    \n",
    "# reservoir computing\n",
    "class reservoir_computing():\n",
    "    def __init__(self,N=3,Dr=300, rho=1,delta=0.1,b=0,transient=1000,R_network=None,W_in=None):\n",
    "        \"\"\"\n",
    "        L: \n",
    "        N: the input dimension\n",
    "        Dr: the reservoir network size\n",
    "        rho: spectral radius of the reservoir network weight matrix\n",
    "        delta: the scaling parameter of the input-to-reservoir matrix\n",
    "        b: the bias term\n",
    "        transient: the number of reservoir state data  to be deleted  \n",
    "        \n",
    "        R_network: the reservoir network weight matrix\n",
    "        W_in : the input-to-reservoir matrix\n",
    "        \"\"\"\n",
    "        self.N=N\n",
    "        self.Dr=Dr\n",
    "        self.rho=rho\n",
    "        self.delta=delta\n",
    "        self.b=b\n",
    "        self.transient=transient\n",
    "        \n",
    "        self.R_network=R_network\n",
    "        self.W_in=W_in\n",
    "        \n",
    "    \n",
    "    def Training_phase(self, train_data=None,Train_expect=None,index_method=0):\n",
    "        L=train_data.shape[0]\n",
    "        R_state = np.zeros((L, self.Dr))\n",
    "        W_out= np.zeros((self.Dr, self.N))\n",
    "        Pre_train_output= np.zeros((L, self.N))\n",
    "         \n",
    "        R_state[0,:]=np.tanh(np.dot(self.rho*self.R_network, R_state[0,:])\n",
    "                             +self.delta*np.dot(self.W_in,train_data[0,:])+self.b)\n",
    "        for i in range(1,L):\n",
    "            R_state[i,:]=np.tanh(np.dot(self.rho*self.R_network, R_state[i-1,:])\n",
    "                         +self.delta*np.dot(self.W_in,train_data[i,:])+self.b)\n",
    "        \n",
    "        W_out=traing_Wout(Train_expect[self.transient:,:],R_state[self.transient:,:],index=index_method,k=0.8)\n",
    "#        print(W_out.shape)\n",
    "        \n",
    "        Pre_train_output=np.dot(R_state,W_out)\n",
    "         \n",
    "        self.W_out=W_out\n",
    "        self.laststate=R_state[-1,:]\n",
    "        self.lastinput=Train_expect[-1,:]\n",
    "         \n",
    "        return Pre_train_output#,W_out,R_state\n",
    "    \n",
    "    def Predicting_phase(self,Pre_L=100):\n",
    " \n",
    "        outputs=np.zeros((Pre_L,self.N))\n",
    "        R_state=np.zeros((Pre_L,self.Dr))\n",
    "        \n",
    "        R_state[0,:]=np.tanh((np.dot(self.rho*self.R_network,self.laststate)\n",
    "                             +self.delta*np.dot(self.W_in,self.lastinput)+self.b))\n",
    "        outputs[0,:]=np.dot(R_state[0, :],self.W_out,)\n",
    "        for i in range(1,Pre_L):\n",
    "            R_state[i, :] = np.tanh(np.dot(self.rho*self.R_network, R_state[i-1,:])\n",
    "                             +self.delta*np.dot(self.W_in,outputs[i-1,:])+self.b)\n",
    "            \n",
    "            outputs[i, :] = np.dot(R_state[i, :],self.W_out)\n",
    "            \n",
    "        return outputs"
   ]
  },
  {
   "cell_type": "code",
   "execution_count": 69,
   "metadata": {},
   "outputs": [],
   "source": [
    "class Reservoir():\n",
    "    # def __init__(self,N=3,Dr=300, rho=1,delta=0.1,b=0,transient=1000,R_network=None,W_in=None):\n",
    "\n",
    "    def __init__(self, N, W_net = None, W_in = None):\n",
    "        self.params = {\n",
    "            \"delta\": 0.1,\n",
    "            \"b\"    : 0,\n",
    "                       }\n",
    "        \n",
    "        self.N           = N\n",
    "        self.W_net       = W_net\n",
    "        self.W_in        = W_in\n",
    "        self.R           = torch.zeros(N)\n",
    "        self.initialized = False\n",
    "    \n",
    "    def _run_step(self, data):\n",
    "        assert self.N == self.W_net.shape[0] == self.W_net.shape[1] == self.W_in.shape[0]\n",
    "        # assert self.W_in.shape[1] == data.shape\n",
    "        self.R = torch.tanh(\n",
    "            self.W_net @ self.R + \\\n",
    "            self.params[\"delta\"] * self.W_in @ data + \\\n",
    "            self.params[\"b\"]\n",
    "        )"
   ]
  },
  {
   "cell_type": "code",
   "execution_count": 94,
   "metadata": {},
   "outputs": [],
   "source": []
  },
  {
   "cell_type": "code",
   "execution_count": 95,
   "metadata": {},
   "outputs": [],
   "source": [
    "data = pkl_load(\"/home/rzhu/data_access/l2l_data/volterra_data/pair_0.pkl\")\n",
    "X,Y = data"
   ]
  },
  {
   "cell_type": "code",
   "execution_count": 115,
   "metadata": {},
   "outputs": [],
   "source": [
    "N = 1000\n",
    "W_net = torch.rand(N,N) * 2 - 1\n",
    "W_in = torch.rand(N,1)\n",
    "rnet = Reservoir(N, W_net=W_net, W_in=10*W_in)\n",
    "rnet.params[\"b\"] = 0.5\n",
    "\n",
    "rnet_rec = torch.zeros(3000,N)\n",
    "\n",
    "for i in range(3000):\n",
    "    rnet._run_step(X[[i]])\n",
    "    rnet_rec[i] = rnet.R"
   ]
  },
  {
   "cell_type": "code",
   "execution_count": 127,
   "metadata": {},
   "outputs": [],
   "source": [
    "# lhs = rnet_rec[-2000:,:]\n",
    "# lhs = torch.hstack((torch.ones(2000,1), rnet_rec[-2000:]))\n",
    "lhs = torch.hstack((X[-2000:].reshape(-1,1), rnet_rec[-2000:]))\n",
    "rhs = Y[-2000:]\n",
    "\n",
    "weight, result, rcond = best_regress(lhs, rhs)\n",
    "predict = weight @ lhs.T"
   ]
  },
  {
   "cell_type": "code",
   "execution_count": 130,
   "metadata": {},
   "outputs": [
    {
     "data": {
      "text/plain": [
       "[<matplotlib.lines.Line2D at 0x7f855d1e1a10>]"
      ]
     },
     "execution_count": 130,
     "metadata": {},
     "output_type": "execute_result"
    },
    {
     "data": {
      "image/png": "[encoded data removed]",
      "text/plain": [
       "<Figure size 432x288 with 1 Axes>"
      ]
     },
     "metadata": {
      "needs_background": "light"
     },
     "output_type": "display_data"
    }
   ],
   "source": [
    "# plt.scatter(range(2000), predict, s = 1, c = \"r\")\n",
    "plt.plot(range(2000), predict, c = \"r\")\n",
    "\n",
    "plt.plot(Y[-2000:])"
   ]
  },
  {
   "cell_type": "code",
   "execution_count": null,
   "metadata": {},
   "outputs": [],
   "source": []
  },
  {
   "cell_type": "code",
   "execution_count": null,
   "metadata": {},
   "outputs": [],
   "source": []
  },
  {
   "cell_type": "code",
   "execution_count": null,
   "metadata": {},
   "outputs": [],
   "source": []
  }
 ],
 "metadata": {
  "kernelspec": {
   "display_name": "nwn_l2l",
   "language": "python",
   "name": "python3"
  },
  "language_info": {
   "codemirror_mode": {
    "name": "ipython",
    "version": 3
   },
   "file_extension": ".py",
   "mimetype": "text/x-python",
   "name": "python",
   "nbconvert_exporter": "python",
   "pygments_lexer": "ipython3",
   "version": "3.7.16"
  },
  "orig_nbformat": 4
 },
 "nbformat": 4,
 "nbformat_minor": 2
}
