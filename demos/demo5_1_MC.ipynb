{
 "cells": [
  {
   "cell_type": "code",
   "execution_count": 1,
   "metadata": {},
   "outputs": [],
   "source": [
    "import torch\n",
    "import numpy as np\n",
    "import matplotlib.pyplot as plt\n",
    "from tqdm import tqdm\n",
    "import sys"
   ]
  },
  {
   "cell_type": "code",
   "execution_count": 2,
   "metadata": {},
   "outputs": [],
   "source": [
    "sys.path.append(\"/home/rzhu/Documents/nwn_l2l/\")"
   ]
  },
  {
   "cell_type": "code",
   "execution_count": 3,
   "metadata": {},
   "outputs": [],
   "source": [
    "from nwnTorch.jn_models import *\n",
    "from nwnTorch.nwn import *\n",
    "from nwnTorch.generate_adj import *\n",
    "from nwnTorch.misc import *"
   ]
  },
  {
   "cell_type": "code",
   "execution_count": 4,
   "metadata": {},
   "outputs": [],
   "source": [
    "con = pkl_load(\"/home/rzhu/data_access/l2l_data/volterra_data/con0.pkl\")\n",
    "# con = pkl_load(\"/home/rzhu/data_access/l2l_data/volterra_data/con_100_261.pkl\")\n",
    "adj = torch.tensor(con[\"adj_matrix\"])\n",
    "net     = NWN(adj, \"sydney\")\n",
    "distMat = graphical_distance(net.adjMat)\n",
    "\n",
    "R,C = np.where(distMat == distMat.max())"
   ]
  },
  {
   "cell_type": "code",
   "execution_count": 5,
   "metadata": {},
   "outputs": [],
   "source": [
    "# net                     = NWN(adj, \"sydney\")\n",
    "# E                       = net.number_of_junctions\n",
    "# net.params[\"Ron\"]       = 1e4\n",
    "# net.params[\"grow\"]      = 5\n",
    "# net.params[\"decay\"]     = 10\n",
    "# net.params[\"precision\"] = True\n",
    "# net.params[\"collapse\"]  = False\n",
    "# net.params[\"dt\"]        = 1e-3\n",
    "\n",
    "# # net.params[\"Vset\"]      = 0.01\n",
    "# # net.params[\"Vreset\"]    = 0.01\n",
    "\n",
    "# T0         = 1500\n",
    "# # electrodes = torch.tensor([R[0], C[1]])\n",
    "# electrodes = torch.tensor([27,26])\n",
    "# netG       = torch.zeros(10000)\n",
    "\n",
    "# for t in tqdm(range(T0)):\n",
    "#     sig_in = torch.zeros(len(electrodes))\n",
    "#     sig_in[0] = 1\n",
    "\n",
    "#     net.sim(sig_in.reshape(1,-1), electrodes)\n",
    "#     netG[t] = net.I[1] / sig_in[0]"
   ]
  },
  {
   "cell_type": "code",
   "execution_count": 6,
   "metadata": {},
   "outputs": [],
   "source": [
    "# onAmp            = 2\n",
    "# b                = 1\n",
    "# Tmax             = 3\n",
    "# n_out            = 1000\n",
    "# steps            = int(Tmax / 1e-3)\n",
    "# net.params[\"dt\"] = 1e-2\n",
    "\n",
    "# torch.manual_seed(0)\n",
    "# elec_out = torch.randint(low = 0, high = 100, size = (1,n_out))\n",
    "# readout  = torch.zeros(steps, n_out)\n",
    "# netG2    = torch.zeros(steps)\n",
    "# sig      = torch.rand(steps) * 2 - 1\n",
    "# tvec     = torch.arange(0,Tmax, 1e-3)\n",
    "# # sig      = torch.sin(2*torch.pi*tvec)\n",
    "\n",
    "# for t in tqdm(range(steps)):\n",
    "#     sig_in = torch.zeros(len(electrodes))\n",
    "#     sig_in[0] = sig[t] * onAmp + b\n",
    "\n",
    "#     net.sim(sig_in.reshape(1,-1), electrodes)\n",
    "#     readout[t,:] = net.V[elec_out]\n",
    "#     netG2[t]     = net.I[1] / sig_in[0]"
   ]
  },
  {
   "cell_type": "code",
   "execution_count": null,
   "metadata": {},
   "outputs": [],
   "source": []
  },
  {
   "cell_type": "code",
   "execution_count": null,
   "metadata": {},
   "outputs": [],
   "source": []
  },
  {
   "cell_type": "code",
   "execution_count": 7,
   "metadata": {},
   "outputs": [],
   "source": [
    "data = pkl_load(\"/home/rzhu/data_access/l2l_data/volterra_data/pair_0.pkl\")\n",
    "X,Y = data"
   ]
  },
  {
   "cell_type": "code",
   "execution_count": 98,
   "metadata": {},
   "outputs": [],
   "source": [
    "net                     = NWN(adj, \"sydney\")\n",
    "E                       = net.number_of_junctions\n",
    "net.params[\"Ron\"]       = 1e4\n",
    "net.params[\"grow\"]      = 5\n",
    "net.params[\"decay\"]     = 10\n",
    "net.params[\"precision\"] = True\n",
    "net.params[\"collapse\"]  = False\n",
    "net.params[\"dt\"]        = 1e-3\n",
    "net.junction_state.L    = torch.rand(E) * 0.3 - 0.15"
   ]
  },
  {
   "cell_type": "code",
   "execution_count": 99,
   "metadata": {},
   "outputs": [
    {
     "name": "stderr",
     "output_type": "stream",
     "text": [
      "100%|██████████| 3000/3000 [00:32<00:00, 91.03it/s]\n"
     ]
    }
   ],
   "source": [
    "# onAmp = 2\n",
    "# b     = 1\n",
    "Tmax  = 3\n",
    "steps = int(Tmax / 1e-3)\n",
    "\n",
    "\n",
    "# torch.manual_seed(0)\n",
    "netG2    = torch.zeros(steps)\n",
    "tvec     = torch.arange(0,Tmax, 1e-3)\n",
    "# sig      = torch.sin(2*torch.pi*tvec)\n",
    "\n",
    "n_input    = 200\n",
    "n_out      = 200\n",
    "electrodes = torch.randperm(1024)[:n_input+1]\n",
    "elec_out   = torch.randperm(1024)[-n_out:]\n",
    "W_in       = torch.rand(n_input, 1)\n",
    "sig        = torch.rand(steps) * 2 - 1\n",
    "# sig        = X\n",
    "\n",
    "readout  = torch.zeros(steps, n_out)\n",
    "\n",
    "for t in tqdm(range(steps)):\n",
    "    # sig_in = torch.zeros(len(electrodes))\n",
    "    # sig_in[0] = sig[t] * onAmp + b\n",
    "\n",
    "    sig_in = torch.zeros(n_input + 1)\n",
    "    sig_in[:-1] = W_in @ sig[[0]]\n",
    "\n",
    "    net.sim(sig_in.reshape(1,-1), electrodes)\n",
    "    readout[t,:] = net.V[elec_out]\n",
    "    netG2[t]     = net.I[1] / sig_in[0]"
   ]
  },
  {
   "cell_type": "code",
   "execution_count": null,
   "metadata": {},
   "outputs": [],
   "source": []
  },
  {
   "cell_type": "code",
   "execution_count": null,
   "metadata": {},
   "outputs": [],
   "source": []
  },
  {
   "cell_type": "code",
   "execution_count": 100,
   "metadata": {},
   "outputs": [],
   "source": [
    "def calc_MC(readout, target, \n",
    "            tau = 1, T0 = 0, L = 1000):\n",
    "    pick        = torch.arange(T0,T0+L)\n",
    "    readout_tau = readout[pick+tau]\n",
    "    target_tau  = target[pick]\n",
    "    weight, result, rcond = best_regress(readout_tau, target_tau)\n",
    "\n",
    "    predict = weight @ readout_tau.T\n",
    "    # mc      = torch.cov(torch.vstack((predict, target_tau)))[0,1]**2 / \\\n",
    "    #     (torch.var(predict) * torch.var(target_tau))\n",
    "    mc      = torch.cov(torch.vstack((predict, target_tau)))[0,1]**2 / \\\n",
    "                (torch.var(predict) * torch.var(target[pick+tau]))\n",
    "    # mc = torch.corrcoef(torch.stack((predict, target_tau)))[0,1]**2\n",
    "\n",
    "    return mc"
   ]
  },
  {
   "cell_type": "code",
   "execution_count": 101,
   "metadata": {},
   "outputs": [
    {
     "name": "stderr",
     "output_type": "stream",
     "text": [
      "100%|██████████| 100/100 [00:03<00:00, 32.61it/s]\n"
     ]
    }
   ],
   "source": [
    "MC = torch.zeros(100)\n",
    "for i in tqdm(range(1,101)):\n",
    "    MC[i-1] = calc_MC(readout, sig, i, 500, 1000)"
   ]
  },
  {
   "cell_type": "code",
   "execution_count": 102,
   "metadata": {},
   "outputs": [
    {
     "name": "stdout",
     "output_type": "stream",
     "text": [
      "tensor(0.6452)\n"
     ]
    },
    {
     "data": {
      "image/png": "[encoded data removed]",
      "text/plain": [
       "<Figure size 432x288 with 1 Axes>"
      ]
     },
     "metadata": {
      "needs_background": "light"
     },
     "output_type": "display_data"
    }
   ],
   "source": [
    "plt.plot(MC)\n",
    "print(MC.sum())"
   ]
  },
  {
   "cell_type": "code",
   "execution_count": null,
   "metadata": {},
   "outputs": [],
   "source": []
  }
 ],
 "metadata": {
  "kernelspec": {
   "display_name": "nwn_l2l",
   "language": "python",
   "name": "python3"
  },
  "language_info": {
   "codemirror_mode": {
    "name": "ipython",
    "version": 3
   },
   "file_extension": ".py",
   "mimetype": "text/x-python",
   "name": "python",
   "nbconvert_exporter": "python",
   "pygments_lexer": "ipython3",
   "version": "3.7.16"
  },
  "orig_nbformat": 4
 },
 "nbformat": 4,
 "nbformat_minor": 2
}
