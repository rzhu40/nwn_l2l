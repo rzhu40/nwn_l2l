{
 "cells": [
  {
   "cell_type": "code",
   "execution_count": 1,
   "metadata": {},
   "outputs": [],
   "source": [
    "import sys\n",
    "import numpy as np\n",
    "import matplotlib.pyplot as plt\n",
    "import torch\n",
    "\n",
    "from torch import nn\n",
    "from torch.utils.data import DataLoader\n",
    "from torchvision import datasets, transforms\n",
    "from tqdm import tqdm"
   ]
  },
  {
   "cell_type": "code",
   "execution_count": 2,
   "metadata": {},
   "outputs": [],
   "source": [
    "sys.path.append(\"/home/rzhu/Documents/nwn_l2l/\")\n",
    "from nwnTorch.jn_models import *\n",
    "from nwnTorch.nwn import *\n",
    "from nwnTorch.generate_adj import *\n",
    "from nwnTorch.misc import *"
   ]
  },
  {
   "cell_type": "code",
   "execution_count": 3,
   "metadata": {},
   "outputs": [],
   "source": [
    "torch.set_default_tensor_type('torch.FloatTensor')"
   ]
  },
  {
   "cell_type": "code",
   "execution_count": 4,
   "metadata": {},
   "outputs": [],
   "source": [
    "batch_size  = 128\n",
    "data_path   = \"/home/rzhu/data_access/data/mnist\"\n",
    "num_classes = 10\n",
    "\n",
    "transform = transforms.Compose([\n",
    "            transforms.Resize((28, 28)),\n",
    "            transforms.Grayscale(),\n",
    "            transforms.ToTensor(),\n",
    "            transforms.Normalize((0,), (1,))])\n",
    "             \n",
    "mnist_train = datasets.MNIST(data_path, train=True, download=True, transform=transform)\n",
    "mnist_test  = datasets.MNIST(data_path, train=False, download=True, transform=transform)"
   ]
  },
  {
   "cell_type": "code",
   "execution_count": 5,
   "metadata": {},
   "outputs": [],
   "source": [
    "con     = pkl_load(\"/home/rzhu/data_access/l2l_data/volterra_data/con0.pkl\")\n",
    "adj     = torch.tensor(con[\"adj_matrix\"])\n",
    "net     = NWN(adj, \"sydney\")"
   ]
  },
  {
   "cell_type": "code",
   "execution_count": 6,
   "metadata": {},
   "outputs": [],
   "source": [
    "net                     = NWN(adj, \"sydney\")\n",
    "E                       = net.number_of_junctions\n",
    "net.params[\"Ron\"]       = 1e4\n",
    "net.params[\"grow\"]      = 5\n",
    "net.params[\"decay\"]     = 10\n",
    "net.params[\"precision\"] = True\n",
    "net.params[\"collapse\"]  = False\n",
    "net.params[\"dt\"]        = 1e-3\n",
    "net.junction_state.L    = torch.rand(E) * 0.3 - 0.15"
   ]
  },
  {
   "cell_type": "code",
   "execution_count": null,
   "metadata": {},
   "outputs": [],
   "source": []
  },
  {
   "cell_type": "code",
   "execution_count": 7,
   "metadata": {},
   "outputs": [],
   "source": [
    "from snntorch import spikegen"
   ]
  },
  {
   "cell_type": "code",
   "execution_count": 8,
   "metadata": {},
   "outputs": [],
   "source": [
    "# node_shuffle = torch.randperm(1024)\n",
    "# electrodes   = node_shuffle[:784+1]\n",
    "# e_out        = node_shuffle[-100:]\n",
    "# num_steps    = 25\n",
    "# data, label  = next(train_batch)\n",
    "\n",
    "# spk_x   = spikegen.rate(data, 25, 0.5).swapaxes(0,1)\n",
    "# readout = torch.zeros(batch_size, num_steps, len(e_out))\n",
    "\n",
    "# for i in tqdm(range(batch_size)):\n",
    "#     sample      = spk_x[i]\n",
    "#     sig_in      = torch.zeros(785)\n",
    "#     for t in range(num_steps):\n",
    "#         # sig_in[:-1] = sample[t].reshape(-1)\n",
    "#         sig_in[:-1] = data[i,0].reshape(-1) * 2\n",
    "#         net.sim(sig_in.reshape(1,-1), electrodes)\n",
    "#         readout[i,t,:] = net.V[e_out]"
   ]
  },
  {
   "cell_type": "code",
   "execution_count": 9,
   "metadata": {},
   "outputs": [],
   "source": [
    "def run_batch(net, node_shuffle, \n",
    "              batch_data):\n",
    "    electrodes   = node_shuffle[:784+1]\n",
    "    e_out        = node_shuffle[-100:]\n",
    "    num_steps    = 25\n",
    "    batch_size   = batch_data.shape[0]\n",
    "\n",
    "    # spk_x   = spikegen.rate(data, 25, 0.5).swapaxes(0,1)\n",
    "    readout = torch.zeros(batch_size, num_steps, len(e_out))\n",
    "\n",
    "    for i in tqdm(range(batch_size)):\n",
    "        # sample      = spk_x[i]\n",
    "        sig_in      = torch.zeros(785)\n",
    "        for t in range(num_steps):\n",
    "            # sig_in[:-1] = sample[t].reshape(-1)\n",
    "            sig_in[:-1] = batch_data[i,0].reshape(-1) * 2\n",
    "            net.sim(sig_in.reshape(1,-1), electrodes)\n",
    "            readout[i,t,:] = net.V[e_out]\n",
    "\n",
    "    return readout"
   ]
  },
  {
   "cell_type": "code",
   "execution_count": 2,
   "metadata": {},
   "outputs": [],
   "source": [
    "import dask\n",
    "from dask.distributed import Client, LocalCluster, progress"
   ]
  },
  {
   "cell_type": "code",
   "execution_count": 11,
   "metadata": {},
   "outputs": [
    {
     "name": "stderr",
     "output_type": "stream",
     "text": [
      "2023-04-06 00:44:51,009:INFO:Note: NumExpr detected 16 cores but \"NUMEXPR_MAX_THREADS\" not set, so enforcing safe limit of 8.\n",
      "2023-04-06 00:44:51,009:INFO:NumExpr defaulting to 8 threads.\n"
     ]
    },
    {
     "data": {
      "text/html": [
       "<table style=\"border: 2px solid white;\">\n",
       "<tr>\n",
       "<td style=\"vertical-align: top; border: 0px solid white\">\n",
       "<h3 style=\"text-align: left;\">Client</h3>\n",
       "<ul style=\"text-align: left; list-style: none; margin: 0; padding: 0;\">\n",
       "  <li><b>Scheduler: </b>tcp://127.0.0.1:12121</li>\n",
       "  <li><b>Dashboard: </b><a href='http://127.0.0.1:11113/status' target='_blank'>http://127.0.0.1:11113/status</a></li>\n",
       "</ul>\n",
       "</td>\n",
       "<td style=\"vertical-align: top; border: 0px solid white\">\n",
       "<h3 style=\"text-align: left;\">Cluster</h3>\n",
       "<ul style=\"text-align: left; list-style:none; margin: 0; padding: 0;\">\n",
       "  <li><b>Workers: </b>2</li>\n",
       "  <li><b>Cores: </b>2</li>\n",
       "  <li><b>Memory: </b>33.60 GB</li>\n",
       "</ul>\n",
       "</td>\n",
       "</tr>\n",
       "</table>"
      ],
      "text/plain": [
       "<Client: 'tcp://127.0.0.1:12121' processes=2 threads=2, memory=33.60 GB>"
      ]
     },
     "execution_count": 11,
     "metadata": {},
     "output_type": "execute_result"
    }
   ],
   "source": [
    "cluster = LocalCluster(\n",
    "                    n_workers = 2,\n",
    "                    # processes = False,\n",
    "                    threads_per_worker = 1,\n",
    "                    scheduler_port = 12121,\n",
    "                    dashboard_address = 'localhost:11113',\n",
    "                    )\n",
    "\n",
    "client = Client(cluster)\n",
    "client"
   ]
  },
  {
   "cell_type": "code",
   "execution_count": 12,
   "metadata": {},
   "outputs": [],
   "source": [
    "job_pool   = []\n",
    "label_pool = []\n",
    "node_shuffle = torch.randperm(1024)\n",
    "\n",
    "train_loader = DataLoader(mnist_train, batch_size=batch_size)\n",
    "train_batch = iter(train_loader)\n",
    "# data, label = next(train_batch)\n",
    "\n",
    "for batch_data, batch_label in train_batch:\n",
    "    eval = dask.delayed(run_batch)(net, node_shuffle, batch_data)\n",
    "    job_pool.append(eval)   \n",
    "    label_pool.append(batch_label)"
   ]
  },
  {
   "cell_type": "code",
   "execution_count": 13,
   "metadata": {},
   "outputs": [],
   "source": [
    "# def play_func(x):\n",
    "#     from time import sleep\n",
    "#     sleep(x)\n",
    "#     return x\n",
    "\n",
    "# pbar = tqdm(total = 100)\n",
    "# times = torch.randint(3, (100,))\n",
    "# finished = 0\n",
    "\n",
    "# ss = [dask.delayed(play_func)(times[i]) for i in range(100)]\n",
    "# pp = client.compute(ss)\n",
    "\n",
    "# while finished > 0:\n",
    "#     idx_pool = np.arange(100)\n",
    "#     for i in idx_pool:\n",
    "#         if pp[i].status[0] == \"f\":\n",
    "#             idx_pool.pop(i)\n",
    "#             finished += 1\n",
    "#             pbar.update(1)\n",
    "\n",
    "# cc = client.gather(pp)\n",
    "# pbar.close()"
   ]
  },
  {
   "cell_type": "code",
   "execution_count": 14,
   "metadata": {},
   "outputs": [
    {
     "name": "stderr",
     "output_type": "stream",
     "text": [
      "/home/rzhu/miniconda3/envs/nwn_l2l/lib/python3.7/site-packages/distributed/worker.py:3382: UserWarning: Large object of size 4.81 MB detected in task graph: \n",
      "  (<nwnTorch.nwn.NWN object at 0x7f0833916210>, tens ... ., 0., 0.]]]]))\n",
      "Consider scattering large objects ahead of time\n",
      "with client.scatter to reduce scheduler burden and \n",
      "keep data on workers\n",
      "\n",
      "    future = client.submit(func, big_data)    # bad\n",
      "\n",
      "    big_future = client.scatter(big_data)     # good\n",
      "    future = client.submit(func, big_future)  # good\n",
      "  % (format_bytes(len(b)), s)\n"
     ]
    }
   ],
   "source": [
    "from_dask = client.compute(job_pool)\n",
    "collected = client.gather(from_dask)"
   ]
  },
  {
   "cell_type": "code",
   "execution_count": 15,
   "metadata": {},
   "outputs": [],
   "source": [
    "# node_shuffle = torch.randperm(1024)\n",
    "# aa = run_batch(net, node_shuffle, data)"
   ]
  },
  {
   "cell_type": "code",
   "execution_count": 235,
   "metadata": {},
   "outputs": [],
   "source": [
    "mem_dict = pkl_load(\"/home/rzhu/data_access/data/mnist_nwn/train_mem.pkl\")"
   ]
  },
  {
   "cell_type": "code",
   "execution_count": 236,
   "metadata": {},
   "outputs": [],
   "source": [
    "play = mem_dict[\"mem_x\"][:128]"
   ]
  },
  {
   "cell_type": "code",
   "execution_count": 237,
   "metadata": {},
   "outputs": [],
   "source": [
    "# lhs = readout.reshape(-1,len(e_out))\n",
    "lhs = aa.reshape(-1,100)\n",
    "rhs = play.reshape(-1,10)"
   ]
  },
  {
   "cell_type": "code",
   "execution_count": 238,
   "metadata": {},
   "outputs": [],
   "source": [
    "W, _, _, _ = torch.linalg.lstsq(lhs,rhs)"
   ]
  },
  {
   "cell_type": "code",
   "execution_count": null,
   "metadata": {},
   "outputs": [],
   "source": []
  },
  {
   "cell_type": "code",
   "execution_count": 240,
   "metadata": {},
   "outputs": [],
   "source": [
    "def best_regress(lhs, rhs, search_min = -15):\n",
    "    \"\"\"\n",
    "    lhs: [n_samples, n_input_features]\n",
    "    rhs: [n_samples, n_target_features]\n",
    "    \"\"\"\n",
    "    searches = torch.arange(-1, search_min, -1)\n",
    "    n_search = len(searches) + 1\n",
    "    results = torch.zeros(n_search)\n",
    "    # Ws = torch.zeros(n_search, lhs.shape[1], dtype = lhs.dtype)\n",
    "    Ws = []\n",
    "    for i in range(n_search):\n",
    "        if i == 0:\n",
    "            rcond = None\n",
    "        else:\n",
    "            rcond = torch.float_power(10, searches[i-1])\n",
    "\n",
    "        # Ws[i] = torch.linalg.lstsq(lhs, rhs, rcond = rcond).solution\n",
    "        temp = torch.linalg.lstsq(lhs, rhs, rcond = rcond).solution\n",
    "        # predict = temp @ lhs.T\n",
    "        predict = lhs @ temp\n",
    "        results[i] = get_MSE(predict, rhs)\n",
    "        Ws.append(temp)\n",
    "\n",
    "    best = torch.argmin(results)\n",
    "    return Ws[best], results[best], -best"
   ]
  },
  {
   "cell_type": "code",
   "execution_count": 241,
   "metadata": {},
   "outputs": [],
   "source": [
    "W_out,_,_ = best_regress(lhs, rhs)"
   ]
  },
  {
   "cell_type": "code",
   "execution_count": 242,
   "metadata": {},
   "outputs": [],
   "source": [
    "W_out = torch.linalg.lstsq(lhs, rhs).solution"
   ]
  },
  {
   "cell_type": "code",
   "execution_count": 243,
   "metadata": {},
   "outputs": [],
   "source": [
    "aaa = lhs.reshape(-1,25,100)"
   ]
  },
  {
   "cell_type": "code",
   "execution_count": 244,
   "metadata": {},
   "outputs": [],
   "source": [
    "bbb = aaa@W_out"
   ]
  },
  {
   "cell_type": "code",
   "execution_count": 247,
   "metadata": {},
   "outputs": [
    {
     "data": {
      "text/plain": [
       "[<matplotlib.lines.Line2D at 0x7f8ffb2c08d0>]"
      ]
     },
     "execution_count": 247,
     "metadata": {},
     "output_type": "execute_result"
    },
    {
     "data": {
      "image/png": "[encoded data removed]",
      "text/plain": [
       "<Figure size 432x288 with 1 Axes>"
      ]
     },
     "metadata": {
      "needs_background": "light"
     },
     "output_type": "display_data"
    }
   ],
   "source": [
    "idx = 120\n",
    "out_max    = bbb[idx].sum(axis = 0).argmax()\n",
    "target_max = play[idx].sum(axis = 0).argmax()\n",
    "\n",
    "plt.plot(bbb[idx], c = \"g\")\n",
    "plt.plot(bbb[idx][:,out_max], c = \"b\", lw = 2)\n",
    "\n",
    "\n",
    "plt.plot(play[idx], c = \"y\")\n",
    "plt.plot(play[idx][:,target_max], c = \"r\", lw = 2)\n"
   ]
  },
  {
   "cell_type": "code",
   "execution_count": null,
   "metadata": {},
   "outputs": [],
   "source": []
  }
 ],
 "metadata": {
  "kernelspec": {
   "display_name": "nwn_l2l",
   "language": "python",
   "name": "python3"
  },
  "language_info": {
   "codemirror_mode": {
    "name": "ipython",
    "version": 3
   },
   "file_extension": ".py",
   "mimetype": "text/x-python",
   "name": "python",
   "nbconvert_exporter": "python",
   "pygments_lexer": "ipython3",
   "version": "3.7.16"
  },
  "orig_nbformat": 4
 },
 "nbformat": 4,
 "nbformat_minor": 2
}
