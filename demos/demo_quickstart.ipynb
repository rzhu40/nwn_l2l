{
 "cells": [
  {
   "attachments": {},
   "cell_type": "markdown",
   "metadata": {},
   "source": [
    "# This is a quick start demo for \"nwnTorch\" as of 24 Apr 2023."
   ]
  },
  {
   "attachments": {},
   "cell_type": "markdown",
   "metadata": {},
   "source": [
    "Ruomin Zhu      rzhu0837@uni.sydney.edu.au\n",
    "\n",
    "[Twitter](https://twitter.com/RuominZhu)"
   ]
  },
  {
   "cell_type": "code",
   "execution_count": 40,
   "metadata": {},
   "outputs": [],
   "source": [
    "import sys"
   ]
  },
  {
   "cell_type": "code",
   "execution_count": 41,
   "metadata": {},
   "outputs": [],
   "source": [
    "# NOTE I found this the easiet way to include the scripts I wrote.\n",
    "# * Append the PARENT directory of nwnTorch to path\n",
    "sys.path.append(\"/home/rzhu/Documents/nwn_l2l/\")"
   ]
  },
  {
   "cell_type": "code",
   "execution_count": 42,
   "metadata": {},
   "outputs": [],
   "source": [
    "import numpy as np\n",
    "import matplotlib.pyplot as plt\n",
    "import torch\n",
    "from tqdm import tqdm\n",
    "\n",
    "from nwnTorch.jn_models import *\n",
    "from nwnTorch.nwn import *\n",
    "from nwnTorch.generate_adj import *\n",
    "from nwnTorch.misc import *"
   ]
  },
  {
   "attachments": {},
   "cell_type": "markdown",
   "metadata": {},
   "source": [
    "## Set up network"
   ]
  },
  {
   "attachments": {},
   "cell_type": "markdown",
   "metadata": {},
   "source": [
    "### Connectivity"
   ]
  },
  {
   "cell_type": "code",
   "execution_count": 69,
   "metadata": {},
   "outputs": [],
   "source": [
    "\n",
    "# * con is a pre-generated connectivity file. \n",
    "# * 1024 nodes, 6877 edges.\n",
    "# * Have a look at wires.py and nwnTorch.generate_adj for more details.\n",
    "con = pkl_load(\"/home/rzhu/data_access/l2l_data/volterra_data/con0.pkl\")\n",
    "# * Get the adjacency matrix from the file.\n",
    "adj = torch.tensor(con[\"adj_matrix\"])\n",
    "\n",
    "# * Generate network class. \n",
    "# * See nwnTorch.jn_models for other types of junctions.\n",
    "net = NWN(adj, \"sydney\")"
   ]
  },
  {
   "attachments": {},
   "cell_type": "markdown",
   "metadata": {},
   "source": [
    "### Parameters"
   ]
  },
  {
   "cell_type": "code",
   "execution_count": 76,
   "metadata": {},
   "outputs": [],
   "source": [
    "\n",
    "# * The parameters for the network and the junctions are all contained in net.params\n",
    "net.params[\"Ron\"]       = 1e4\n",
    "net.params[\"Roff\"]      = 1e7\n",
    "net.params[\"grow\"]      = 5\n",
    "net.params[\"decay\"]     = 10\n",
    "net.params[\"precision\"] = True\n",
    "net.params[\"collapse\"]  = False\n",
    "net.params[\"dt\"]        = 1e-3\n",
    "\n",
    "# * One can initialize the network to different states by manipulate L.\n",
    "# ! Note that this method is not highly recomanded. \n",
    "# ! Mainly because it's not physically relizable.\n",
    "E                    = net.number_of_junctions\n",
    "net.junction_state.L = torch.rand(E) * 0.3 - 0.15\n",
    "\n",
    "# * The following line is not necessary. For visualization reasons we do it here.\n",
    "# * The simulator is able to update it inside the loop.\n",
    "net.junction_state.updateG()"
   ]
  },
  {
   "cell_type": "code",
   "execution_count": 79,
   "metadata": {},
   "outputs": [
    {
     "data": {
      "text/plain": [
       "Text(0.5, 0, '$\\\\log_{10}(junction \\\\, conductance)$')"
      ]
     },
     "execution_count": 79,
     "metadata": {},
     "output_type": "execute_result"
    },
    {
     "data": {
      "image/png": "[encoded data removed]",
      "text/plain": [
       "<Figure size 720x460.8 with 2 Axes>"
      ]
     },
     "metadata": {
      "needs_background": "light"
     },
     "output_type": "display_data"
    }
   ],
   "source": [
    "fig, axes = plt.subplots(2,1, figsize = (10,6.4))\n",
    "\n",
    "axes[0].hist(net.junction_state.L)\n",
    "axes[0].set_xlabel(r\"$\\lambda$\")\n",
    "axes[0].text(-0.1, 400, r\"This is the distribution of filament state $\\lambda$.\",\n",
    "             fontsize = 14)\n",
    "axes[0].text(-0.1, 200, \"The distribution is boring. This is not ideal\", \n",
    "            fontsize = 14)\n",
    "\n",
    "axes[1].hist(np.log10(net.junction_state.G), 20)\n",
    "axes[1].set_yscale(\"log\")\n",
    "axes[1].text(-6.8, 1000, r\"$G_{off}$\", fontsize = 14)\n",
    "axes[1].text(-4.5, 1000, r\"$G_{on}$\", fontsize = 14)\n",
    "axes[1].set_xlabel(r\"$\\log_{10}(junction \\, conductance)$\")\n",
    "# axes[1].set_title(\"Conductance distribution\")\n"
   ]
  },
  {
   "attachments": {},
   "cell_type": "markdown",
   "metadata": {},
   "source": [
    "## Set up input/output"
   ]
  },
  {
   "cell_type": "code",
   "execution_count": 80,
   "metadata": {},
   "outputs": [],
   "source": [
    "\n",
    "# * Often times we use a 2-terminal set up to mimick physical device.\n",
    "# * One electrode(node) for input and the other is grounded.\n",
    "# * The voltage distribution of the network is read out from various nodes, \\\n",
    "# * as if we have a voltage probe going around the physical network.\n",
    "\n",
    "# * Here we try to use 2 graphically furthest nodes for source/drain\n",
    "distMat = graphical_distance(net.adjMat)\n",
    "E1, E2  = np.stack(np.where(distMat == distMat.max())).T[0]\n",
    "E_read  = np.random.permutation(1024)[:64]\n",
    "elecs   = torch.tensor([E1, E2])\n",
    "# sig     = torch.sin(2*torch.pi * torch.arange(0,10,1e-3))\n",
    "sig  = torch.ones(1000)"
   ]
  },
  {
   "attachments": {},
   "cell_type": "markdown",
   "metadata": {},
   "source": [
    "## Run Simulation"
   ]
  },
  {
   "cell_type": "code",
   "execution_count": 73,
   "metadata": {},
   "outputs": [
    {
     "name": "stderr",
     "output_type": "stream",
     "text": [
      "100%|██████████| 1000/1000 [00:13<00:00, 74.72it/s]"
     ]
    },
    {
     "name": "stdout",
     "output_type": "stream",
     "text": [
      "dict_keys(['params', 'V', 'G', 'L', 'switch'])\n"
     ]
    },
    {
     "name": "stderr",
     "output_type": "stream",
     "text": [
      "\n"
     ]
    }
   ],
   "source": [
    "\n",
    "# * Number of steps we want to simulate\n",
    "steps = 1000\n",
    "readV = torch.zeros(steps, len(E_read))\n",
    "readL = torch.zeros(steps, E)\n",
    "netG  = torch.zeros(steps)\n",
    "netG2 = torch.zeros(steps)\n",
    "\n",
    "\n",
    "# * We use a for-loop for simulation.\n",
    "# * Should wrap all these into a Class but haven't done that.\n",
    "# * Would really appreciate contributions.\n",
    "for t in tqdm(range(steps)):\n",
    "    # * Each electrode needs to have a corresponding signal. In this case we need 2.\n",
    "    # * If the number of signals provided is less than the number of electrodes,\n",
    "    # * the module can extend it by zeros. But there will be annoying notifications.\n",
    "\n",
    "    # NOTE sig_in should be of shape (T,E).\n",
    "    # * Here we use T=1 so we can collect data for each step.\n",
    "    sig_in = torch.zeros(1,2) \n",
    "\n",
    "    # * We can adjust the signal if necessary. \n",
    "    # * This could also be done outside the loop. Your choice!\n",
    "    sig_in[0,0] = sig[t] * 2 + 0.02\n",
    "\n",
    "    # * This line calls the simulation method.\n",
    "    net.sim(sig_in, elecs)\n",
    "\n",
    "    # * We are trying to keep track of the features.\n",
    "    # * Note that keeping all of them might take too much RAM. Be selective.\n",
    "    readV[t,:] = net.V[E_read] # * Voltage\n",
    "    readL[t,:] = net.junction_state.L # * filament state (lambda)\n",
    "\n",
    "    # * We use this function to keep track of the collective conductance of the network.\n",
    "    # NOTE This thing might not make enought sense if it's not two terminal.\n",
    "    # NOTE Still, it will be nice indicator for what's going on.\n",
    "    netG[t] = net.test_conductance(elecs) \n",
    "    netG2[t] = net.I[1] / sig_in[0,0]\n",
    "\n",
    "# * A list of things you might be interested in.\n",
    "print(net.junction_state.__dict__.keys())"
   ]
  },
  {
   "cell_type": "code",
   "execution_count": null,
   "metadata": {},
   "outputs": [],
   "source": []
  },
  {
   "cell_type": "code",
   "execution_count": null,
   "metadata": {},
   "outputs": [],
   "source": []
  },
  {
   "cell_type": "code",
   "execution_count": null,
   "metadata": {},
   "outputs": [],
   "source": []
  },
  {
   "cell_type": "code",
   "execution_count": null,
   "metadata": {},
   "outputs": [],
   "source": []
  }
 ],
 "metadata": {
  "kernelspec": {
   "display_name": "nwn_l2l",
   "language": "python",
   "name": "python3"
  },
  "language_info": {
   "codemirror_mode": {
    "name": "ipython",
    "version": 3
   },
   "file_extension": ".py",
   "mimetype": "text/x-python",
   "name": "python",
   "nbconvert_exporter": "python",
   "pygments_lexer": "ipython3",
   "version": "3.7.16"
  },
  "orig_nbformat": 4
 },
 "nbformat": 4,
 "nbformat_minor": 2
}
