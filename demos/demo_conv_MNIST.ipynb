{
 "cells": [
  {
   "cell_type": "code",
   "execution_count": 1,
   "metadata": {},
   "outputs": [],
   "source": [
    "import sys\n",
    "import numpy as np\n",
    "import matplotlib.pyplot as plt\n",
    "import torch\n",
    "\n",
    "from torch import nn\n",
    "from torch.utils.data import DataLoader\n",
    "from torchvision import datasets, transforms\n",
    "from tqdm import tqdm"
   ]
  },
  {
   "cell_type": "code",
   "execution_count": 2,
   "metadata": {},
   "outputs": [],
   "source": [
    "sys.path.append(\"/home/rzhu/Documents/nwn_l2l/\")\n",
    "from nwnTorch.jn_models import *\n",
    "from nwnTorch.nwn import *\n",
    "from nwnTorch.generate_adj import *\n",
    "from nwnTorch.misc import *"
   ]
  },
  {
   "cell_type": "code",
   "execution_count": 3,
   "metadata": {},
   "outputs": [],
   "source": [
    "# Temporary usage for gpu. need to refine\n",
    "# torch.set_default_tensor_type('torch.cuda.FloatTensor')\n",
    "torch.set_default_tensor_type('torch.FloatTensor')"
   ]
  },
  {
   "cell_type": "code",
   "execution_count": 51,
   "metadata": {},
   "outputs": [],
   "source": [
    "batch_size  = 8\n",
    "data_path   = \"/home/rzhu/data_access/data/mnist\"\n",
    "num_classes = 10\n",
    "\n",
    "transform = transforms.Compose([\n",
    "            transforms.Resize((28, 28)),\n",
    "            transforms.Grayscale(),\n",
    "            transforms.ToTensor(),\n",
    "            transforms.Normalize((0,), (1,))])\n",
    "            \n",
    "mnist_train = datasets.MNIST(data_path, train=True, download=True, transform=transform)\n",
    "mnist_test  = datasets.MNIST(data_path, train=False, download=True, transform=transform)"
   ]
  },
  {
   "cell_type": "code",
   "execution_count": 52,
   "metadata": {},
   "outputs": [],
   "source": [
    "con     = pkl_load(\"/home/rzhu/data_access/l2l_data/volterra_data/con0.pkl\")\n",
    "adj     = torch.tensor(con[\"adj_matrix\"])\n",
    "net     = NWN(adj, \"sydney\")\n",
    "\n",
    "# distMat = graphical_distance(net.adjMat)\n",
    "# R,C = np.where(distMat == distMat.max())"
   ]
  },
  {
   "cell_type": "code",
   "execution_count": 53,
   "metadata": {},
   "outputs": [],
   "source": [
    "net                     = NWN(adj, \"sydney\")\n",
    "E                       = net.number_of_junctions\n",
    "net.params[\"Ron\"]       = 1e4\n",
    "net.params[\"grow\"]      = 5\n",
    "net.params[\"decay\"]     = 10\n",
    "net.params[\"precision\"] = True\n",
    "net.params[\"collapse\"]  = False\n",
    "net.params[\"dt\"]        = 1e-3\n",
    "# net.junction_state.L    = torch.rand(E) * 0.3 - 0.15"
   ]
  },
  {
   "cell_type": "code",
   "execution_count": 54,
   "metadata": {},
   "outputs": [],
   "source": [
    "train_loader = DataLoader(mnist_train, batch_size=batch_size)\n",
    "train_batch = iter(train_loader)"
   ]
  },
  {
   "cell_type": "code",
   "execution_count": 55,
   "metadata": {},
   "outputs": [],
   "source": [
    "kernel_size = 3\n",
    "electrodes  = torch.randperm(1024)[:kernel_size**2 + 1]"
   ]
  },
  {
   "cell_type": "code",
   "execution_count": 56,
   "metadata": {},
   "outputs": [],
   "source": [
    "dtype = torch.float\n",
    "device = torch.device(\"cuda\") if torch.cuda.is_available() else torch.device(\"cpu\")"
   ]
  },
  {
   "cell_type": "code",
   "execution_count": 57,
   "metadata": {},
   "outputs": [],
   "source": [
    "import dask\n",
    "from dask.distributed import Client, LocalCluster"
   ]
  },
  {
   "cell_type": "code",
   "execution_count": 58,
   "metadata": {},
   "outputs": [],
   "source": [
    "def run_batch(net, electrodes, \n",
    "              scan_batch):\n",
    "    batch_size, ksqr, num_steps = scan_batch.shape\n",
    "\n",
    "    readout    = torch.zeros(batch_size, num_steps, ksqr+1)\n",
    "    \n",
    "    for i in tqdm(range(batch_size)):\n",
    "        sample = scan_batch[i]\n",
    "        sig_in = torch.zeros(kernel_size**2+1)\n",
    "\n",
    "        for t in range(num_steps):\n",
    "            sig_in[:-1] = sample[:,t]\n",
    "            net.sim(sig_in.reshape(1,-1), electrodes)\n",
    "            readout[i,t,:] = net.I\n",
    "\n",
    "    net.steps = 12345\n",
    "    return readout"
   ]
  },
  {
   "cell_type": "code",
   "execution_count": 25,
   "metadata": {},
   "outputs": [],
   "source": [
    "# cluster = LocalCluster(\n",
    "#                     n_workers = 2,\n",
    "#                     threads_per_worker = 1,\n",
    "#                     scheduler_port = 12121,\n",
    "#                     dashboard_address = 'localhost:11113',\n",
    "#                     )"
   ]
  },
  {
   "cell_type": "code",
   "execution_count": 34,
   "metadata": {},
   "outputs": [],
   "source": [
    "client = Client(cluster)"
   ]
  },
  {
   "cell_type": "code",
   "execution_count": 35,
   "metadata": {},
   "outputs": [
    {
     "data": {
      "text/html": [
       "<table style=\"border: 2px solid white;\">\n",
       "<tr>\n",
       "<td style=\"vertical-align: top; border: 0px solid white\">\n",
       "<h3 style=\"text-align: left;\">Client</h3>\n",
       "<ul style=\"text-align: left; list-style: none; margin: 0; padding: 0;\">\n",
       "  <li><b>Scheduler: </b>tcp://127.0.0.1:12121</li>\n",
       "  <li><b>Dashboard: </b><a href='http://127.0.0.1:11113/status' target='_blank'>http://127.0.0.1:11113/status</a></li>\n",
       "</ul>\n",
       "</td>\n",
       "<td style=\"vertical-align: top; border: 0px solid white\">\n",
       "<h3 style=\"text-align: left;\">Cluster</h3>\n",
       "<ul style=\"text-align: left; list-style:none; margin: 0; padding: 0;\">\n",
       "  <li><b>Workers: </b>2</li>\n",
       "  <li><b>Cores: </b>2</li>\n",
       "  <li><b>Memory: </b>33.60 GB</li>\n",
       "</ul>\n",
       "</td>\n",
       "</tr>\n",
       "</table>"
      ],
      "text/plain": [
       "<Client: 'tcp://127.0.0.1:12121' processes=2 threads=2, memory=33.60 GB>"
      ]
     },
     "execution_count": 35,
     "metadata": {},
     "output_type": "execute_result"
    }
   ],
   "source": [
    "client"
   ]
  },
  {
   "cell_type": "code",
   "execution_count": 59,
   "metadata": {},
   "outputs": [],
   "source": [
    "scanner    = nn.Unfold(kernel_size = kernel_size)\n",
    "counter    = 0\n",
    "job_pool   = []\n",
    "label_pool = []\n",
    "\n",
    "for batch_data, batch_label in train_batch:\n",
    "    scan_batch = scanner(batch_data)\n",
    "    eval       = dask.delayed(run_batch)(net, electrodes, scan_batch)\n",
    "    job_pool.append(eval)\n",
    "    label_pool.append(batch_label)\n",
    "\n",
    "    counter += 1\n",
    "    if counter > 500:\n",
    "        break"
   ]
  },
  {
   "cell_type": "code",
   "execution_count": 37,
   "metadata": {},
   "outputs": [],
   "source": [
    "from dask.distributed import progress"
   ]
  },
  {
   "cell_type": "code",
   "execution_count": 38,
   "metadata": {},
   "outputs": [
    {
     "data": {
      "application/vnd.jupyter.widget-view+json": {
       "model_id": "041e6c2ec0864ab7af246c8dd097377f",
       "version_major": 2,
       "version_minor": 0
      },
      "text/plain": [
       "VBox()"
      ]
     },
     "metadata": {},
     "output_type": "display_data"
    }
   ],
   "source": [
    "# from_dask = client.compute(job_pool)\n",
    "# collected = client.gather(from_dask)\n",
    "\n",
    "from_dask = client.persist(job_pool)\n",
    "collected = [temp_future.compute() for temp_future in from_dask]\n",
    "progress(from_dask)"
   ]
  },
  {
   "cell_type": "code",
   "execution_count": 66,
   "metadata": {},
   "outputs": [],
   "source": [
    "labels = torch.cat(label_pool)"
   ]
  },
  {
   "cell_type": "code",
   "execution_count": 41,
   "metadata": {},
   "outputs": [],
   "source": [
    "readout = torch.cat(collected, axis = 0)"
   ]
  },
  {
   "cell_type": "code",
   "execution_count": 68,
   "metadata": {},
   "outputs": [],
   "source": [
    "out_dict = {\n",
    "    \"readout\": readout[:4000],\n",
    "    \"labels\" : labels[:4000]\n",
    "}\n",
    "pkl_save(out_dict, \"/home/rzhu/data_access/data/mnist_nwnset0.pkl\")"
   ]
  },
  {
   "cell_type": "code",
   "execution_count": 57,
   "metadata": {},
   "outputs": [],
   "source": [
    "# batch_data, batch_label = next(train_batch)\n",
    "\n",
    "# scanner    = nn.Unfold(kernel_size = kernel_size)\n",
    "# scan_batch = scanner(batch_data)\n",
    "# duration   = scan_batch.shape[-1]\n",
    "# readout    = torch.zeros(batch_size, duration, kernel_size**2+1)\n",
    "\n",
    "# for i in tqdm(range(batch_size)):\n",
    "#     sample = scan_batch[i]\n",
    "#     sig_in = torch.zeros(kernel_size**2+1)\n",
    "\n",
    "#     for t in range(duration):\n",
    "#         sig_in[:-1] = sample[:,t]\n",
    "#         net.sim(sig_in.reshape(1,-1), electrodes)\n",
    "#         readout[i,t,:] = net.I"
   ]
  },
  {
   "cell_type": "code",
   "execution_count": 70,
   "metadata": {},
   "outputs": [],
   "source": [
    "readout = torch.cat(collected, axis = 0)\n",
    "F1      = readout.reshape(-1,26,26,10).max(axis=1).values\n",
    "F2      = readout.reshape(-1,26,26,10).max(axis=2).values\n",
    "F       = torch.cat((F1, F2), axis = 1)"
   ]
  },
  {
   "cell_type": "code",
   "execution_count": 79,
   "metadata": {},
   "outputs": [],
   "source": [
    "split  = 3000\n",
    "trainX = F[:split,:,:-1].reshape(split, -1)\n",
    "testX  = F[split:,:,:-1].reshape(len(F)-split, -1)\n",
    "trainY = labels[:split]\n",
    "testY  = labels[split:]"
   ]
  },
  {
   "cell_type": "code",
   "execution_count": null,
   "metadata": {},
   "outputs": [],
   "source": []
  },
  {
   "cell_type": "code",
   "execution_count": 81,
   "metadata": {},
   "outputs": [],
   "source": [
    "def LDA_test(X, Y, test_X, test_Y, sub_sample = 1, return_map = False):\n",
    "    from sklearn.discriminant_analysis import LinearDiscriminantAnalysis as LDA\n",
    "    model = LDA(solver = 'lsqr', shrinkage = 'auto')\n",
    "    model.fit(X[:,::sub_sample], Y)\n",
    "    # result = model.predict(test_X[:,::sub_sample])\n",
    "    acc = model.score(test_X, test_Y)\n",
    "    if return_map:\n",
    "        result = model.predict(test_X)\n",
    "        sz = np.max(test_Y)+1\n",
    "        fit_map = np.zeros((sz,sz))\n",
    "        for i in range(len(result)):\n",
    "            fit_map[test_Y[i], result[i]] += 1\n",
    "        return acc, fit_map\n",
    "    else:\n",
    "        return acc"
   ]
  },
  {
   "cell_type": "code",
   "execution_count": 82,
   "metadata": {},
   "outputs": [
    {
     "data": {
      "text/plain": [
       "0.9117063492063492"
      ]
     },
     "execution_count": 82,
     "metadata": {},
     "output_type": "execute_result"
    }
   ],
   "source": [
    "LDA_test(trainX, trainY, testX, testY)"
   ]
  },
  {
   "cell_type": "code",
   "execution_count": null,
   "metadata": {},
   "outputs": [],
   "source": []
  },
  {
   "cell_type": "code",
   "execution_count": null,
   "metadata": {},
   "outputs": [],
   "source": []
  },
  {
   "cell_type": "code",
   "execution_count": 73,
   "metadata": {},
   "outputs": [],
   "source": []
  },
  {
   "cell_type": "code",
   "execution_count": null,
   "metadata": {},
   "outputs": [],
   "source": []
  },
  {
   "cell_type": "code",
   "execution_count": null,
   "metadata": {},
   "outputs": [],
   "source": []
  },
  {
   "cell_type": "code",
   "execution_count": 73,
   "metadata": {},
   "outputs": [],
   "source": [
    "# Temporary usage for gpu. need to refine\n",
    "# torch.set_default_tensor_type('torch.cuda.FloatTensor')\n",
    "torch.set_default_tensor_type('torch.FloatTensor')\n"
   ]
  },
  {
   "cell_type": "code",
   "execution_count": null,
   "metadata": {},
   "outputs": [],
   "source": []
  },
  {
   "cell_type": "code",
   "execution_count": null,
   "metadata": {},
   "outputs": [],
   "source": []
  }
 ],
 "metadata": {
  "kernelspec": {
   "display_name": "nwn_l2l",
   "language": "python",
   "name": "python3"
  },
  "language_info": {
   "codemirror_mode": {
    "name": "ipython",
    "version": 3
   },
   "file_extension": ".py",
   "mimetype": "text/x-python",
   "name": "python",
   "nbconvert_exporter": "python",
   "pygments_lexer": "ipython3",
   "version": "3.7.16"
  },
  "orig_nbformat": 4
 },
 "nbformat": 4,
 "nbformat_minor": 2
}
